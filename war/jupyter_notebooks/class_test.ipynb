{
 "cells": [
  {
   "cell_type": "code",
   "execution_count": null,
   "metadata": {},
   "outputs": [],
   "source": []
  },
  {
   "cell_type": "code",
   "execution_count": null,
   "metadata": {},
   "outputs": [],
   "source": []
  },
  {
   "cell_type": "code",
   "execution_count": null,
   "metadata": {},
   "outputs": [],
   "source": [
    "class Card:\n",
    "    def __init__(self, suit, rank, value):\n",
    "        self.suit = suit\n",
    "        self.rank = rank\n",
    "        self.value = rank[value]\n",
    "        \n",
    "    def __str__(self):\n",
    "        return \"{0} of {1}\".format(self.rank, self.suit)"
   ]
  },
  {
   "cell_type": "code",
   "execution_count": null,
   "metadata": {},
   "outputs": [],
   "source": [
    "print(Card(\"Spades\", \"Four\", 4))"
   ]
  },
  {
   "cell_type": "code",
   "execution_count": null,
   "metadata": {},
   "outputs": [],
   "source": [
    "# attach rank to value automatically\n",
    "\n",
    "SUITS = ['Spades', 'Hearts', 'Diamonds', 'Clubs']\n",
    "RANKS = ['Two', 'Three', 'Four', 'Five', 'Six', 'Seven', 'Eight', 'Nine', 'Ten', 'Jack', 'Queen', 'King', 'Ace']\n",
    "VALUES = {'Two': 2, 'Three': 3, 'Four': 4, 'Five': 5, 'Six': 6, 'Seven': 7, 'Eight': 8, \n",
    "          'Nine': 9, 'Ten': 10, 'Jack': 11, 'Queen': 12, 'King': 13, 'Ace': 14}"
   ]
  },
  {
   "cell_type": "code",
   "execution_count": null,
   "metadata": {},
   "outputs": [],
   "source": [
    "VALUES[\"Jack\"]"
   ]
  },
  {
   "cell_type": "code",
   "execution_count": null,
   "metadata": {},
   "outputs": [],
   "source": [
    "class Card:\n",
    "    VALUE = {'Two': 2, 'Three': 3, 'Four': 4, 'Five': 5, 'Six': 6, 'Seven': 7, 'Eight': 8, \n",
    "              'Nine': 9, 'Ten': 10, 'Jack': 11, 'Queen': 12, 'King': 13, 'Ace': 14}\n",
    "    \n",
    "    def __init__(self, suit, rank):\n",
    "        self.suit = suit\n",
    "        self.rank = rank\n",
    "        self.value = Card.VALUE[self.rank]\n",
    "        \n",
    "    def __str__(self):\n",
    "        return \"{0} of {1}\".format(self.rank, self.suit)\n",
    "\n",
    "\n",
    "if __name__ == '__main__':\n",
    "    card1 = Card(\"Hearts\", \"Queen\")\n",
    "    card2 = Card(\"Diamonds\", \"Ace\")\n",
    "    card3 = Card(\"Clubs\", \"Three\")\n",
    "    \n",
    "    print(\"Card #1: {}\".format(card1))\n",
    "    print(\"Card #2: {}\".format(card2))\n",
    "    print(\"Card #3: {}\".format(card3))\n",
    "    \n",
    "    print('\\n')\n",
    "    \n",
    "    print(\"Value of Card #1: {}\".format(card1.value))\n",
    "    print(\"Value of Card #2: {}\".format(card2.value))\n",
    "    print(\"Value of Card #3: {}\".format(card3.value))"
   ]
  },
  {
   "cell_type": "code",
   "execution_count": null,
   "metadata": {},
   "outputs": [],
   "source": [
    "# For Deck(), initialize by looping through SUIT and RANK global arrays\n",
    "# self.deck = [Card(suit, rank) for rank in Deck.RANK for suit in Deck.SUIT]"
   ]
  },
  {
   "cell_type": "code",
   "execution_count": null,
   "metadata": {},
   "outputs": [],
   "source": []
  },
  {
   "cell_type": "code",
   "execution_count": null,
   "metadata": {},
   "outputs": [],
   "source": [
    "import random\n",
    "\n",
    "class Deck():\n",
    "    SUIT = ['Spades', 'Hearts', 'Diamonds', 'Clubs']\n",
    "    RANK = ['Two', 'Three', 'Four', 'Five', 'Six', 'Seven', \n",
    "            'Eight', 'Nine', 'Ten', 'Jack', 'Queen', 'King', 'Ace']\n",
    "    \n",
    "    def __init__(self):\n",
    "        self.deck = [Card(suit, rank) for rank in Deck.RANK for suit in Deck.SUIT]\n",
    "        \n",
    "    def shuffle(self):\n",
    "        return random.shuffle(self.deck)\n",
    "    \n",
    "    def deal_card(self):\n",
    "        return self.deck.pop()\n",
    "    \n",
    "if __name__ == \"__main__\":\n",
    "    new_deck = Deck()\n",
    "    new_deck.shuffle()\n",
    "    \n",
    "    print(\"Card #1: {}\".format(new_deck.deal_card()))\n",
    "    print(\"Card #2: {}\".format(new_deck.deal_card()))\n",
    "    print(\"Card #3: {}\\n\".format(new_deck.deal_card()))\n",
    "    \n",
    "    print(\"{} cards left\".format(len(new_deck.deck)))"
   ]
  },
  {
   "cell_type": "code",
   "execution_count": null,
   "metadata": {},
   "outputs": [],
   "source": [
    "deck1 = Deck()"
   ]
  },
  {
   "cell_type": "code",
   "execution_count": null,
   "metadata": {},
   "outputs": [],
   "source": [
    "first_card = deck1.deck_of_cards[0]\n",
    "print(first_card)"
   ]
  },
  {
   "cell_type": "code",
   "execution_count": null,
   "metadata": {
    "scrolled": true
   },
   "outputs": [],
   "source": [
    "deck1.deck_of_cards"
   ]
  },
  {
   "cell_type": "code",
   "execution_count": null,
   "metadata": {},
   "outputs": [],
   "source": [
    "int(len(deck1.deck_of_cards) / 2)"
   ]
  },
  {
   "cell_type": "code",
   "execution_count": null,
   "metadata": {},
   "outputs": [],
   "source": [
    "deck1.shuffle()"
   ]
  },
  {
   "cell_type": "code",
   "execution_count": null,
   "metadata": {},
   "outputs": [],
   "source": [
    "print(deck1.deck_of_cards[1])"
   ]
  },
  {
   "cell_type": "code",
   "execution_count": null,
   "metadata": {},
   "outputs": [],
   "source": [
    "arr = [1,2,3,4,5,6]\n",
    "arr1 = arr[: int(len(arr) / 2)]\n",
    "arr2 = arr[int(len(arr) / 2) :]\n",
    "print(arr1)\n",
    "print(arr2)"
   ]
  },
  {
   "cell_type": "code",
   "execution_count": null,
   "metadata": {},
   "outputs": [],
   "source": []
  },
  {
   "cell_type": "code",
   "execution_count": null,
   "metadata": {},
   "outputs": [],
   "source": []
  },
  {
   "cell_type": "code",
   "execution_count": null,
   "metadata": {},
   "outputs": [],
   "source": []
  },
  {
   "cell_type": "code",
   "execution_count": null,
   "metadata": {},
   "outputs": [],
   "source": [
    "# in main, call a deck and shuffle it\n",
    "# split the deck evenly amongst the number of players (2 players)\n",
    "# player class has its own deck passed to it\n",
    "# implement add_card() functions and deal_card() functions\n",
    "\n",
    "class Player:\n",
    "    def __init__(self, deck_of_cards):\n",
    "        self.deck_of_cards = deck_of_cards\n",
    "        \n",
    "    def add_card(self, new_card):\n",
    "        return self.deck_of_cards.append(new_card)\n",
    "    \n",
    "    def deal_card(self):\n",
    "        return self.deck_of_cards.pop()\n",
    "\n",
    "if __name__ == \"__main__\":\n",
    "    deck = Deck()\n",
    "    deck.shuffle()\n",
    "    \n",
    "    player1_deck = deck.deck[: int(len(deck.deck) / 2)]\n",
    "    player = Player(player1_deck)\n",
    "    \n",
    "    dealt_card = player.deal_card()\n",
    "    print(dealt_card)\n",
    "    print(player.deal_card())\n",
    "    print(player.deal_card())\n",
    "    \n",
    "    #player.add_card(Card(dealt_card.suit, dealt_card.rank))\n",
    "    player.add_card(dealt_card)\n",
    "    print(player.deck_of_cards[-1])"
   ]
  },
  {
   "cell_type": "code",
   "execution_count": null,
   "metadata": {},
   "outputs": [],
   "source": []
  },
  {
   "cell_type": "code",
   "execution_count": null,
   "metadata": {},
   "outputs": [],
   "source": [
    "if __name__ == \"__main__\":\n",
    "    NUM_PLAYERS = 2\n",
    "    \n",
    "    deck = Deck()\n",
    "    deck.shuffle()\n",
    "    \n",
    "    player1_deck = deck.deck[: int(len(deck.deck) / NUM_PLAYERS)]\n",
    "    # player2_deck = deck.deck[int(len(deck.deck) / NUM_PLAYERS) :]\n",
    "    \n",
    "    player = Player(player1_deck)\n",
    "    \n",
    "    print(player.deal_card())"
   ]
  },
  {
   "cell_type": "code",
   "execution_count": null,
   "metadata": {},
   "outputs": [],
   "source": []
  },
  {
   "cell_type": "code",
   "execution_count": null,
   "metadata": {},
   "outputs": [],
   "source": [
    "arr = []\n",
    "not arr"
   ]
  },
  {
   "cell_type": "code",
   "execution_count": null,
   "metadata": {},
   "outputs": [],
   "source": [
    "# game logic\n",
    "\n",
    "# deal cards\n",
    "# split shuffled deck between two players\n",
    "# create two players (can be computer players since game is luck based)\n",
    "# each player will flip one card from their deck\n",
    "# compare the cards\n",
    "\n",
    "# def game_turn_compare(card1, card2, extra_cards):\n",
    "#     if card1.value > card2.value:\n",
    "#         player1.add_card(card1)\n",
    "#         player1.add_card(card2)\n",
    "#         for card in extra_cards:\n",
    "#             player1.add_card(card)\n",
    "#\n",
    "#     elif card1.value < card2.value:\n",
    "#         player2.add_card(card1)\n",
    "#         player2.add_card(card2)\n",
    "#         for card in extra_cards:\n",
    "#             player2.add_card(card)\n",
    "#\n",
    "#     elif card1.value == card2.value:\n",
    "#         extra_cards.append(player1.deal_card())\n",
    "#         extra_cards.append(player1.deal_card())\n",
    "#         extra_cards.append(player1.deal_card())\n",
    "#         det_card1 = player1.deal_card()\n",
    "#\n",
    "#         extra_cards.append(player2.deal_card())\n",
    "#         extra_cards.append(player2.deal_card())\n",
    "#         extra_cards.append(player2.deal_card())\n",
    "#         det_card2 = player2.deal_card()\n",
    "#\n",
    "#         game_turn_compare(det_card1, det_card2, extra_cards)\n",
    "#\n",
    "#     else: pass\n",
    "\n",
    "'''\n",
    "create deck\n",
    "shuffle deck\n",
    "split shuffled deck between two players\n",
    "create two players\n",
    "extra_cards = []\n",
    "\n",
    "while either player's deck length is not empty:\n",
    "    deal a card from both players\n",
    "    game_turn_compare(card1, card2, extra_cards)\n",
    "    \n",
    "    \n",
    "'''"
   ]
  },
  {
   "cell_type": "code",
   "execution_count": null,
   "metadata": {},
   "outputs": [],
   "source": []
  },
  {
   "cell_type": "code",
   "execution_count": null,
   "metadata": {},
   "outputs": [],
   "source": []
  },
  {
   "cell_type": "code",
   "execution_count": 16,
   "metadata": {
    "scrolled": true
   },
   "outputs": [
    {
     "name": "stdout",
     "output_type": "stream",
     "text": [
      "Four of Hearts vs. Jack of Hearts -> player 1 deck length: 25 --- player 2 deck length: 25 --- Total Cards: 50\n",
      "Two of Diamonds vs. Queen of Diamonds -> player 1 deck length: 24 --- player 2 deck length: 26 --- Total Cards: 50\n",
      "Jack of Clubs vs. Six of Hearts -> player 1 deck length: 23 --- player 2 deck length: 27 --- Total Cards: 50\n",
      "Seven of Spades vs. Ace of Hearts -> player 1 deck length: 24 --- player 2 deck length: 26 --- Total Cards: 50\n",
      "Ten of Spades vs. Seven of Diamonds -> player 1 deck length: 23 --- player 2 deck length: 27 --- Total Cards: 50\n",
      "Eight of Diamonds vs. Five of Clubs -> player 1 deck length: 24 --- player 2 deck length: 26 --- Total Cards: 50\n",
      "Queen of Spades vs. Four of Clubs -> player 1 deck length: 25 --- player 2 deck length: 25 --- Total Cards: 50\n",
      "Three of Spades vs. Ten of Hearts -> player 1 deck length: 26 --- player 2 deck length: 24 --- Total Cards: 50\n",
      "Seven of Clubs vs. Eight of Hearts -> player 1 deck length: 25 --- player 2 deck length: 25 --- Total Cards: 50\n",
      "Seven of Hearts vs. Jack of Diamonds -> player 1 deck length: 24 --- player 2 deck length: 26 --- Total Cards: 50\n",
      "Ace of Clubs vs. Three of Hearts -> player 1 deck length: 23 --- player 2 deck length: 27 --- Total Cards: 50\n",
      "Four of Spades vs. Four of Diamonds -> player 1 deck length: 24 --- player 2 deck length: 26 --- Total Cards: 50\n",
      "Nine of Clubs vs. Two of Hearts -> player 1 deck length: 20 --- player 2 deck length: 22 --- Total Cards: 42\n",
      "King of Spades vs. King of Hearts -> player 1 deck length: 27 --- player 2 deck length: 21 --- Total Cards: 48\n",
      "Two of Spades vs. Six of Spades -> player 1 deck length: 23 --- player 2 deck length: 17 --- Total Cards: 40\n",
      "Nine of Diamonds vs. Five of Hearts -> player 1 deck length: 22 --- player 2 deck length: 30 --- Total Cards: 52\n",
      "Ace of Diamonds vs. Three of Diamonds -> player 1 deck length: 35 --- player 2 deck length: 29 --- Total Cards: 64\n",
      "Three of Clubs vs. King of Clubs -> player 1 deck length: 48 --- player 2 deck length: 28 --- Total Cards: 76\n",
      "Queen of Hearts vs. Eight of Clubs -> player 1 deck length: 47 --- player 2 deck length: 41 --- Total Cards: 88\n",
      "Six of Clubs vs. Five of Diamonds -> player 1 deck length: 60 --- player 2 deck length: 40 --- Total Cards: 100\n"
     ]
    },
    {
     "ename": "KeyboardInterrupt",
     "evalue": "",
     "output_type": "error",
     "traceback": [
      "\u001b[0;31m---------------------------------------------------------------------------\u001b[0m",
      "\u001b[0;31mKeyboardInterrupt\u001b[0m                         Traceback (most recent call last)",
      "\u001b[0;32m<ipython-input-16-9b6b7f3e7d94>\u001b[0m in \u001b[0;36m<module>\u001b[0;34m\u001b[0m\n\u001b[1;32m     90\u001b[0m         \u001b[0mdealt_card2\u001b[0m \u001b[0;34m=\u001b[0m \u001b[0mplayer2\u001b[0m\u001b[0;34m.\u001b[0m\u001b[0mdeal_card\u001b[0m\u001b[0;34m(\u001b[0m\u001b[0;34m)\u001b[0m\u001b[0;34m\u001b[0m\u001b[0;34m\u001b[0m\u001b[0m\n\u001b[1;32m     91\u001b[0m         \u001b[0mgame_turn_compare\u001b[0m\u001b[0;34m(\u001b[0m\u001b[0mplayer1\u001b[0m\u001b[0;34m,\u001b[0m \u001b[0mplayer2\u001b[0m\u001b[0;34m,\u001b[0m \u001b[0mdealt_card1\u001b[0m\u001b[0;34m,\u001b[0m \u001b[0mdealt_card2\u001b[0m\u001b[0;34m,\u001b[0m \u001b[0mextra_cards\u001b[0m\u001b[0;34m)\u001b[0m\u001b[0;34m\u001b[0m\u001b[0;34m\u001b[0m\u001b[0m\n\u001b[0;32m---> 92\u001b[0;31m         \u001b[0mtime\u001b[0m\u001b[0;34m.\u001b[0m\u001b[0msleep\u001b[0m\u001b[0;34m(\u001b[0m\u001b[0;36m2\u001b[0m\u001b[0;34m)\u001b[0m\u001b[0;34m\u001b[0m\u001b[0;34m\u001b[0m\u001b[0m\n\u001b[0m\u001b[1;32m     93\u001b[0m \u001b[0;34m\u001b[0m\u001b[0m\n\u001b[1;32m     94\u001b[0m \u001b[0;34m\u001b[0m\u001b[0m\n",
      "\u001b[0;31mKeyboardInterrupt\u001b[0m: "
     ]
    }
   ],
   "source": [
    "# Full Game Prototype\n",
    "import random\n",
    "import time\n",
    "\n",
    "class Card:\n",
    "    VALUE = {'Two': 2, 'Three': 3, 'Four': 4, 'Five': 5, 'Six': 6, 'Seven': 7, 'Eight': 8, \n",
    "              'Nine': 9, 'Ten': 10, 'Jack': 11, 'Queen': 12, 'King': 13, 'Ace': 14}\n",
    "    \n",
    "    def __init__(self, suit, rank):\n",
    "        self.suit = suit\n",
    "        self.rank = rank\n",
    "        self.value = Card.VALUE[self.rank]\n",
    "        \n",
    "    def __str__(self):\n",
    "        return \"{0} of {1}\".format(self.rank, self.suit)\n",
    "\n",
    "\n",
    "class Deck():\n",
    "    SUIT = ['Spades', 'Hearts', 'Diamonds', 'Clubs']\n",
    "    RANK = ['Two', 'Three', 'Four', 'Five', 'Six', 'Seven', \n",
    "            'Eight', 'Nine', 'Ten', 'Jack', 'Queen', 'King', 'Ace']\n",
    "    \n",
    "    def __init__(self):\n",
    "        self.deck = [Card(suit, rank) for rank in Deck.RANK for suit in Deck.SUIT]\n",
    "        \n",
    "    def shuffle(self):\n",
    "        return random.shuffle(self.deck)\n",
    "    \n",
    "    def deal_card(self):\n",
    "        return self.deck.pop(0)\n",
    "    \n",
    "\n",
    "class Player:\n",
    "    def __init__(self, name, deck_of_cards):\n",
    "        self.name = name\n",
    "        self.deck_of_cards = deck_of_cards\n",
    "        \n",
    "    def add_card(self, new_card):\n",
    "        return self.deck_of_cards.append(new_card)\n",
    "    \n",
    "    def deal_card(self):\n",
    "        return self.deck_of_cards.pop(0)\n",
    "\n",
    "\n",
    "def game_turn_compare(player1, player2, card1, card2, extra_cards):\n",
    "    print(\"{0} vs. {1} -> player 1 deck length: {2} --- player 2 deck length: {3} --- Total Cards: {4}\"\n",
    "          .format(card1, card2, len(player1.deck_of_cards), len(player2.deck_of_cards), len(player1.deck_of_cards) + len(player2.deck_of_cards)))\n",
    "    if card1.value > card2.value:\n",
    "        player1.add_card(card1)\n",
    "        player1.add_card(card2)\n",
    "        for card in extra_cards: player1.add_card(card)\n",
    "        extra_cards = []\n",
    "\n",
    "    elif card1.value < card2.value:\n",
    "        player2.add_card(card1)\n",
    "        player2.add_card(card2)\n",
    "        for card in extra_cards: player2.add_card(card)\n",
    "        extra_cards = []\n",
    "\n",
    "    elif card1.value == card2.value:\n",
    "        extra_cards.append(player1.deal_card())\n",
    "        extra_cards.append(player1.deal_card())\n",
    "        extra_cards.append(player1.deal_card())\n",
    "        det_card1 = player1.deal_card()\n",
    "\n",
    "        extra_cards.append(player2.deal_card())\n",
    "        extra_cards.append(player2.deal_card())\n",
    "        extra_cards.append(player2.deal_card())\n",
    "        det_card2 = player2.deal_card()\n",
    "\n",
    "        game_turn_compare(player1, player2, det_card1, det_card2, extra_cards)\n",
    "\n",
    "    else: pass\n",
    "\n",
    "\n",
    "if __name__ == \"__main__\":\n",
    "    deck = Deck()\n",
    "    deck.shuffle()\n",
    "    \n",
    "    player1_deck = deck.deck[: int(len(deck.deck) / 2)]\n",
    "    player2_deck = deck.deck[int(len(deck.deck) / 2) :]\n",
    "    \n",
    "    player1 = Player(\"Player 1\", player1_deck)\n",
    "    player2 = Player(\"Player 2\", player2_deck)\n",
    "    \n",
    "    extra_cards = []\n",
    "    \n",
    "    while (len(player1.deck_of_cards) != 0) or (len(player2.deck_of_cards) != 0):\n",
    "        dealt_card1 = player1.deal_card()\n",
    "        dealt_card2 = player2.deal_card()\n",
    "        game_turn_compare(player1, player2, dealt_card1, dealt_card2, extra_cards)\n",
    "        time.sleep(2)\n",
    "        \n",
    "        \n",
    "    if len(player1.deck_of_cards) == 0: print(\"{} wins!\".format(player2.name))\n",
    "    elif len(player2.deck_of_cards) == 0: print(\"{} wins!\".format(player1.name))\n",
    "    else: pass"
   ]
  },
  {
   "cell_type": "code",
   "execution_count": null,
   "metadata": {},
   "outputs": [],
   "source": []
  },
  {
   "cell_type": "code",
   "execution_count": 12,
   "metadata": {},
   "outputs": [
    {
     "name": "stdout",
     "output_type": "stream",
     "text": [
      "{1, 2, 3, 4, 5}\n",
      "True\n"
     ]
    }
   ],
   "source": [
    "setn = {1,2,3,4,5}\n",
    "set1 = {1,2,3}\n",
    "set2 = {3,4,5}\n",
    "\n",
    "print(set1.union(set2))\n",
    "print(set1.issubset(setn))"
   ]
  },
  {
   "cell_type": "code",
   "execution_count": null,
   "metadata": {},
   "outputs": [],
   "source": []
  },
  {
   "cell_type": "code",
   "execution_count": null,
   "metadata": {},
   "outputs": [],
   "source": []
  },
  {
   "cell_type": "code",
   "execution_count": null,
   "metadata": {},
   "outputs": [],
   "source": []
  }
 ],
 "metadata": {
  "kernelspec": {
   "display_name": "cardgames_env_kernel",
   "language": "python",
   "name": "cardgames_env_kernel"
  },
  "language_info": {
   "codemirror_mode": {
    "name": "ipython",
    "version": 3
   },
   "file_extension": ".py",
   "mimetype": "text/x-python",
   "name": "python",
   "nbconvert_exporter": "python",
   "pygments_lexer": "ipython3",
   "version": "3.9.2"
  }
 },
 "nbformat": 4,
 "nbformat_minor": 4
}
